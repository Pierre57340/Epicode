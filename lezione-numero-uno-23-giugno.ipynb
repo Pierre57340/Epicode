{
 "cells": [
  {
   "cell_type": "code",
   "execution_count": null,
   "id": "36ecd42a-7fdc-49d5-8c0f-e1ed8f83edba",
   "metadata": {},
   "outputs": [],
   "source": [
    "nome = \"Francesco\"\n",
    "cognome = \"Morabito\"\n",
    " \n",
    "eta = 36\n",
    "prezzo = 34.54\n",
    "\n",
    "#int = numero intero\n",
    "#float = numero in virgola mobile\n",
    "#str\n",
    "#bool = vero o falso (True o False)\n",
    "#None = è il valore nullo\n",
    "\n",
    "print(type(prezzo))\n",
    "\n",
    "print(prezzo)\n",
    "\n",
    "totale = prezzo + 45.67\n",
    "\n",
    "print(totale) #somma tra due numeri\n",
    "\n",
    "print(nome + \" \" + cognome) #concatenazione tra stringhe\n",
    "\n",
    "print((nome+\" \") * 3) # * su stringhe ripete il contenuto\n"
   ]
  },
  {
   "cell_type": "code",
   "execution_count": null,
   "id": "7c0b5c22-6cca-4af6-a7b5-98ed678f9b4a",
   "metadata": {},
   "outputs": [],
   "source": [
    "#questo è un commento\n",
    "print(\"ciao mondo\") \n",
    "#print è l'istruzione per stampare un output\n"
   ]
  },
  {
   "cell_type": "code",
   "execution_count": null,
   "id": "5c0b01fb-4d24-487f-b345-13c6a8f05e6c",
   "metadata": {},
   "outputs": [],
   "source": [
    "#una variabile può cambiare tipo di contenuto\n",
    "variabile = 25\n",
    "print(variabile)\n",
    "variabile = \"Roma\"\n",
    "print(variabile)"
   ]
  },
  {
   "cell_type": "code",
   "execution_count": null,
   "id": "9b897c1b-c70f-46ce-9b86-d7ea6d5a2dca",
   "metadata": {},
   "outputs": [],
   "source": [
    "print(\"questa è una stampa \\n su più righe\")"
   ]
  },
  {
   "cell_type": "code",
   "execution_count": null,
   "id": "fba808be-58cf-43ff-9db8-37e99fe5ef27",
   "metadata": {},
   "outputs": [],
   "source": [
    "print(\"questi sono dei doppi apici \\\"\")"
   ]
  },
  {
   "cell_type": "code",
   "execution_count": null,
   "id": "3659e902-3a87-4660-9ab3-8ff14ccd61cb",
   "metadata": {},
   "outputs": [],
   "source": [
    "eta = 50\n",
    "eta = int(\"70\") #cast esplicito da stringa a int"
   ]
  },
  {
   "cell_type": "code",
   "execution_count": null,
   "id": "330a27d4-d9f6-4fc0-8884-f440b7cf7c73",
   "metadata": {},
   "outputs": [],
   "source": [
    "print(\"ciao\")\n",
    "eta = input(\"Quanti anni hai?\")\n",
    "print(\"Hai, \" + eta + \" anni\")\n",
    "print(type(eta))\n",
    "eta = int(eta)\n",
    "print(type(eta))"
   ]
  },
  {
   "cell_type": "code",
   "execution_count": 8,
   "id": "b48e968d-e1c3-436b-bbe6-faee96a18604",
   "metadata": {},
   "outputs": [
    {
     "name": "stdout",
     "output_type": "stream",
     "text": [
      "Benvenuta Giulia hai 5 anni\n"
     ]
    }
   ],
   "source": [
    "eta = 5\n",
    "nome = \"Giulia\"\n",
    "#stampa con concatenazione, attenzione ai tipi (int + str)\n",
    "print(\"Benvenuta \" + nome  + \" hai \"+ str(eta) + \" anni\")"
   ]
  },
  {
   "cell_type": "code",
   "execution_count": 12,
   "id": "398e88d1-62cb-4811-873b-37e7f63d6f98",
   "metadata": {},
   "outputs": [
    {
     "name": "stdout",
     "output_type": "stream",
     "text": [
      "Ciao Giulia hai 5 anni\n"
     ]
    }
   ],
   "source": [
    "#converte in automatico i tipi (int, float, etc) + inserisce spazio\n",
    "print(\"Ciao\", nome, \"hai\", eta, \"anni\")\n"
   ]
  },
  {
   "cell_type": "code",
   "execution_count": 14,
   "id": "e1ef36f7-a90a-4792-9919-57dad87d3933",
   "metadata": {},
   "outputs": [
    {
     "name": "stdout",
     "output_type": "stream",
     "text": [
      "Ciao Giulia, hai 5 anni\n"
     ]
    }
   ],
   "source": [
    "#print con f-string, da python 3.6\n",
    "print(f\"Ciao {nome}, hai {eta} anni\")"
   ]
  },
  {
   "cell_type": "code",
   "execution_count": null,
   "id": "d9956d63-7874-427a-aeff-24d59793255d",
   "metadata": {},
   "outputs": [],
   "source": []
  }
 ],
 "metadata": {
  "kernelspec": {
   "display_name": "Python [conda env:base] *",
   "language": "python",
   "name": "conda-base-py"
  },
  "language_info": {
   "codemirror_mode": {
    "name": "ipython",
    "version": 3
   },
   "file_extension": ".py",
   "mimetype": "text/x-python",
   "name": "python",
   "nbconvert_exporter": "python",
   "pygments_lexer": "ipython3",
   "version": "3.12.7"
  }
 },
 "nbformat": 4,
 "nbformat_minor": 5
}
