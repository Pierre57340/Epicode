{
 "cells": [
  {
   "cell_type": "code",
   "execution_count": 1,
   "id": "e6e6a56e-4d28-4ff2-9644-a72dac76378e",
   "metadata": {},
   "outputs": [
    {
     "name": "stdout",
     "output_type": "stream",
     "text": [
      "Dataset caricato.\n"
     ]
    }
   ],
   "source": [
    "# Importo pandas per i dati e seaborn per i grafici\n",
    "import pandas as pd\n",
    "import seaborn as sns\n",
    "\n",
    "# URL del file CSV grezzo (raw) su GitHub\n",
    "url = 'https://raw.githubusercontent.com/owid/covid-19-data/master/public/data/owid-covid-data.csv'\n",
    "\n",
    "# Il codice ora legge il file direttamente da internet, non serve averlo sul computer.\n",
    "df = pd.read_csv(url)\n",
    "df['date'] = pd.to_datetime(df['date'])\n",
    "\n",
    "print(\"Dataset caricato con successo da GitHub.\")"
   ]
  },
  {
   "cell_type": "code",
   "execution_count": 2,
   "id": "ec73cd01-3de0-4f3b-a2e2-ab1b48283594",
   "metadata": {},
   "outputs": [
    {
     "name": "stdout",
     "output_type": "stream",
     "text": [
      "EDA: Ispezione Iniziale\n",
      "\n",
      "Il dataset ha 429435 righe e 67 colonne.\n",
      "\n",
      "Prime 5 righe del dataset:\n"
     ]
    },
    {
     "data": {
      "text/html": [
       "<div>\n",
       "<style scoped>\n",
       "    .dataframe tbody tr th:only-of-type {\n",
       "        vertical-align: middle;\n",
       "    }\n",
       "\n",
       "    .dataframe tbody tr th {\n",
       "        vertical-align: top;\n",
       "    }\n",
       "\n",
       "    .dataframe thead th {\n",
       "        text-align: right;\n",
       "    }\n",
       "</style>\n",
       "<table border=\"1\" class=\"dataframe\">\n",
       "  <thead>\n",
       "    <tr style=\"text-align: right;\">\n",
       "      <th></th>\n",
       "      <th>iso_code</th>\n",
       "      <th>continent</th>\n",
       "      <th>location</th>\n",
       "      <th>date</th>\n",
       "      <th>total_cases</th>\n",
       "      <th>new_cases</th>\n",
       "      <th>new_cases_smoothed</th>\n",
       "      <th>total_deaths</th>\n",
       "      <th>new_deaths</th>\n",
       "      <th>new_deaths_smoothed</th>\n",
       "      <th>...</th>\n",
       "      <th>male_smokers</th>\n",
       "      <th>handwashing_facilities</th>\n",
       "      <th>hospital_beds_per_thousand</th>\n",
       "      <th>life_expectancy</th>\n",
       "      <th>human_development_index</th>\n",
       "      <th>population</th>\n",
       "      <th>excess_mortality_cumulative_absolute</th>\n",
       "      <th>excess_mortality_cumulative</th>\n",
       "      <th>excess_mortality</th>\n",
       "      <th>excess_mortality_cumulative_per_million</th>\n",
       "    </tr>\n",
       "  </thead>\n",
       "  <tbody>\n",
       "    <tr>\n",
       "      <th>0</th>\n",
       "      <td>AFG</td>\n",
       "      <td>Asia</td>\n",
       "      <td>Afghanistan</td>\n",
       "      <td>2020-01-05</td>\n",
       "      <td>0.0</td>\n",
       "      <td>0.0</td>\n",
       "      <td>NaN</td>\n",
       "      <td>0.0</td>\n",
       "      <td>0.0</td>\n",
       "      <td>NaN</td>\n",
       "      <td>...</td>\n",
       "      <td>NaN</td>\n",
       "      <td>37.746</td>\n",
       "      <td>0.5</td>\n",
       "      <td>64.83</td>\n",
       "      <td>0.511</td>\n",
       "      <td>41128772</td>\n",
       "      <td>NaN</td>\n",
       "      <td>NaN</td>\n",
       "      <td>NaN</td>\n",
       "      <td>NaN</td>\n",
       "    </tr>\n",
       "    <tr>\n",
       "      <th>1</th>\n",
       "      <td>AFG</td>\n",
       "      <td>Asia</td>\n",
       "      <td>Afghanistan</td>\n",
       "      <td>2020-01-06</td>\n",
       "      <td>0.0</td>\n",
       "      <td>0.0</td>\n",
       "      <td>NaN</td>\n",
       "      <td>0.0</td>\n",
       "      <td>0.0</td>\n",
       "      <td>NaN</td>\n",
       "      <td>...</td>\n",
       "      <td>NaN</td>\n",
       "      <td>37.746</td>\n",
       "      <td>0.5</td>\n",
       "      <td>64.83</td>\n",
       "      <td>0.511</td>\n",
       "      <td>41128772</td>\n",
       "      <td>NaN</td>\n",
       "      <td>NaN</td>\n",
       "      <td>NaN</td>\n",
       "      <td>NaN</td>\n",
       "    </tr>\n",
       "    <tr>\n",
       "      <th>2</th>\n",
       "      <td>AFG</td>\n",
       "      <td>Asia</td>\n",
       "      <td>Afghanistan</td>\n",
       "      <td>2020-01-07</td>\n",
       "      <td>0.0</td>\n",
       "      <td>0.0</td>\n",
       "      <td>NaN</td>\n",
       "      <td>0.0</td>\n",
       "      <td>0.0</td>\n",
       "      <td>NaN</td>\n",
       "      <td>...</td>\n",
       "      <td>NaN</td>\n",
       "      <td>37.746</td>\n",
       "      <td>0.5</td>\n",
       "      <td>64.83</td>\n",
       "      <td>0.511</td>\n",
       "      <td>41128772</td>\n",
       "      <td>NaN</td>\n",
       "      <td>NaN</td>\n",
       "      <td>NaN</td>\n",
       "      <td>NaN</td>\n",
       "    </tr>\n",
       "    <tr>\n",
       "      <th>3</th>\n",
       "      <td>AFG</td>\n",
       "      <td>Asia</td>\n",
       "      <td>Afghanistan</td>\n",
       "      <td>2020-01-08</td>\n",
       "      <td>0.0</td>\n",
       "      <td>0.0</td>\n",
       "      <td>NaN</td>\n",
       "      <td>0.0</td>\n",
       "      <td>0.0</td>\n",
       "      <td>NaN</td>\n",
       "      <td>...</td>\n",
       "      <td>NaN</td>\n",
       "      <td>37.746</td>\n",
       "      <td>0.5</td>\n",
       "      <td>64.83</td>\n",
       "      <td>0.511</td>\n",
       "      <td>41128772</td>\n",
       "      <td>NaN</td>\n",
       "      <td>NaN</td>\n",
       "      <td>NaN</td>\n",
       "      <td>NaN</td>\n",
       "    </tr>\n",
       "    <tr>\n",
       "      <th>4</th>\n",
       "      <td>AFG</td>\n",
       "      <td>Asia</td>\n",
       "      <td>Afghanistan</td>\n",
       "      <td>2020-01-09</td>\n",
       "      <td>0.0</td>\n",
       "      <td>0.0</td>\n",
       "      <td>NaN</td>\n",
       "      <td>0.0</td>\n",
       "      <td>0.0</td>\n",
       "      <td>NaN</td>\n",
       "      <td>...</td>\n",
       "      <td>NaN</td>\n",
       "      <td>37.746</td>\n",
       "      <td>0.5</td>\n",
       "      <td>64.83</td>\n",
       "      <td>0.511</td>\n",
       "      <td>41128772</td>\n",
       "      <td>NaN</td>\n",
       "      <td>NaN</td>\n",
       "      <td>NaN</td>\n",
       "      <td>NaN</td>\n",
       "    </tr>\n",
       "  </tbody>\n",
       "</table>\n",
       "<p>5 rows × 67 columns</p>\n",
       "</div>"
      ],
      "text/plain": [
       "  iso_code continent     location       date  total_cases  new_cases  \\\n",
       "0      AFG      Asia  Afghanistan 2020-01-05          0.0        0.0   \n",
       "1      AFG      Asia  Afghanistan 2020-01-06          0.0        0.0   \n",
       "2      AFG      Asia  Afghanistan 2020-01-07          0.0        0.0   \n",
       "3      AFG      Asia  Afghanistan 2020-01-08          0.0        0.0   \n",
       "4      AFG      Asia  Afghanistan 2020-01-09          0.0        0.0   \n",
       "\n",
       "   new_cases_smoothed  total_deaths  new_deaths  new_deaths_smoothed  ...  \\\n",
       "0                 NaN           0.0         0.0                  NaN  ...   \n",
       "1                 NaN           0.0         0.0                  NaN  ...   \n",
       "2                 NaN           0.0         0.0                  NaN  ...   \n",
       "3                 NaN           0.0         0.0                  NaN  ...   \n",
       "4                 NaN           0.0         0.0                  NaN  ...   \n",
       "\n",
       "   male_smokers  handwashing_facilities  hospital_beds_per_thousand  \\\n",
       "0           NaN                  37.746                         0.5   \n",
       "1           NaN                  37.746                         0.5   \n",
       "2           NaN                  37.746                         0.5   \n",
       "3           NaN                  37.746                         0.5   \n",
       "4           NaN                  37.746                         0.5   \n",
       "\n",
       "   life_expectancy  human_development_index  population  \\\n",
       "0            64.83                    0.511    41128772   \n",
       "1            64.83                    0.511    41128772   \n",
       "2            64.83                    0.511    41128772   \n",
       "3            64.83                    0.511    41128772   \n",
       "4            64.83                    0.511    41128772   \n",
       "\n",
       "   excess_mortality_cumulative_absolute  excess_mortality_cumulative  \\\n",
       "0                                   NaN                          NaN   \n",
       "1                                   NaN                          NaN   \n",
       "2                                   NaN                          NaN   \n",
       "3                                   NaN                          NaN   \n",
       "4                                   NaN                          NaN   \n",
       "\n",
       "   excess_mortality  excess_mortality_cumulative_per_million  \n",
       "0               NaN                                      NaN  \n",
       "1               NaN                                      NaN  \n",
       "2               NaN                                      NaN  \n",
       "3               NaN                                      NaN  \n",
       "4               NaN                                      NaN  \n",
       "\n",
       "[5 rows x 67 columns]"
      ]
     },
     "execution_count": 2,
     "metadata": {},
     "output_type": "execute_result"
    }
   ],
   "source": [
    "#ANALISI ESPLORATIVA (EDA)\n",
    "print(\"EDA: Ispezione Iniziale\")\n",
    "\n",
    "# 1. Mostro le dimensioni del dataset\n",
    "print(f\"\\nIl dataset ha {df.shape[0]} righe e {df.shape[1]} colonne.\")\n",
    "\n",
    "# 2. Mostro le prime righe per vedere la struttura\n",
    "print(\"\\nPrime 5 righe del dataset:\")\n",
    "df.head()"
   ]
  },
  {
   "cell_type": "code",
   "execution_count": 3,
   "id": "23d598c3-9a5e-48ad-88d1-30032132dbc3",
   "metadata": {},
   "outputs": [
    {
     "name": "stdout",
     "output_type": "stream",
     "text": [
      "EDA: Tipi di dati e controllo aggregati\n",
      "\n",
      "Informazioni sulle colonne:\n",
      "<class 'pandas.core.frame.DataFrame'>\n",
      "RangeIndex: 429435 entries, 0 to 429434\n",
      "Data columns (total 67 columns):\n",
      " #   Column                                      Non-Null Count   Dtype         \n",
      "---  ------                                      --------------   -----         \n",
      " 0   iso_code                                    429435 non-null  object        \n",
      " 1   continent                                   402910 non-null  object        \n",
      " 2   location                                    429435 non-null  object        \n",
      " 3   date                                        429435 non-null  datetime64[ns]\n",
      " 4   total_cases                                 411804 non-null  float64       \n",
      " 5   new_cases                                   410159 non-null  float64       \n",
      " 6   new_cases_smoothed                          408929 non-null  float64       \n",
      " 7   total_deaths                                411804 non-null  float64       \n",
      " 8   new_deaths                                  410608 non-null  float64       \n",
      " 9   new_deaths_smoothed                         409378 non-null  float64       \n",
      " 10  total_cases_per_million                     411804 non-null  float64       \n",
      " 11  new_cases_per_million                       410159 non-null  float64       \n",
      " 12  new_cases_smoothed_per_million              408929 non-null  float64       \n",
      " 13  total_deaths_per_million                    411804 non-null  float64       \n",
      " 14  new_deaths_per_million                      410608 non-null  float64       \n",
      " 15  new_deaths_smoothed_per_million             409378 non-null  float64       \n",
      " 16  reproduction_rate                           184817 non-null  float64       \n",
      " 17  icu_patients                                39116 non-null   float64       \n",
      " 18  icu_patients_per_million                    39116 non-null   float64       \n",
      " 19  hosp_patients                               40656 non-null   float64       \n",
      " 20  hosp_patients_per_million                   40656 non-null   float64       \n",
      " 21  weekly_icu_admissions                       10993 non-null   float64       \n",
      " 22  weekly_icu_admissions_per_million           10993 non-null   float64       \n",
      " 23  weekly_hosp_admissions                      24497 non-null   float64       \n",
      " 24  weekly_hosp_admissions_per_million          24497 non-null   float64       \n",
      " 25  total_tests                                 79387 non-null   float64       \n",
      " 26  new_tests                                   75403 non-null   float64       \n",
      " 27  total_tests_per_thousand                    79387 non-null   float64       \n",
      " 28  new_tests_per_thousand                      75403 non-null   float64       \n",
      " 29  new_tests_smoothed                          103965 non-null  float64       \n",
      " 30  new_tests_smoothed_per_thousand             103965 non-null  float64       \n",
      " 31  positive_rate                               95927 non-null   float64       \n",
      " 32  tests_per_case                              94348 non-null   float64       \n",
      " 33  tests_units                                 106788 non-null  object        \n",
      " 34  total_vaccinations                          85417 non-null   float64       \n",
      " 35  people_vaccinated                           81132 non-null   float64       \n",
      " 36  people_fully_vaccinated                     78061 non-null   float64       \n",
      " 37  total_boosters                              53600 non-null   float64       \n",
      " 38  new_vaccinations                            70971 non-null   float64       \n",
      " 39  new_vaccinations_smoothed                   195029 non-null  float64       \n",
      " 40  total_vaccinations_per_hundred              85417 non-null   float64       \n",
      " 41  people_vaccinated_per_hundred               81132 non-null   float64       \n",
      " 42  people_fully_vaccinated_per_hundred         78061 non-null   float64       \n",
      " 43  total_boosters_per_hundred                  53600 non-null   float64       \n",
      " 44  new_vaccinations_smoothed_per_million       195029 non-null  float64       \n",
      " 45  new_people_vaccinated_smoothed              192177 non-null  float64       \n",
      " 46  new_people_vaccinated_smoothed_per_hundred  192177 non-null  float64       \n",
      " 47  stringency_index                            196190 non-null  float64       \n",
      " 48  population_density                          360492 non-null  float64       \n",
      " 49  median_age                                  334663 non-null  float64       \n",
      " 50  aged_65_older                               323270 non-null  float64       \n",
      " 51  aged_70_older                               331315 non-null  float64       \n",
      " 52  gdp_per_capita                              328292 non-null  float64       \n",
      " 53  extreme_poverty                             211996 non-null  float64       \n",
      " 54  cardiovasc_death_rate                       328865 non-null  float64       \n",
      " 55  diabetes_prevalence                         345911 non-null  float64       \n",
      " 56  female_smokers                              247165 non-null  float64       \n",
      " 57  male_smokers                                243817 non-null  float64       \n",
      " 58  handwashing_facilities                      161741 non-null  float64       \n",
      " 59  hospital_beds_per_thousand                  290689 non-null  float64       \n",
      " 60  life_expectancy                             390299 non-null  float64       \n",
      " 61  human_development_index                     319127 non-null  float64       \n",
      " 62  population                                  429435 non-null  int64         \n",
      " 63  excess_mortality_cumulative_absolute        13411 non-null   float64       \n",
      " 64  excess_mortality_cumulative                 13411 non-null   float64       \n",
      " 65  excess_mortality                            13411 non-null   float64       \n",
      " 66  excess_mortality_cumulative_per_million     13411 non-null   float64       \n",
      "dtypes: datetime64[ns](1), float64(61), int64(1), object(4)\n",
      "memory usage: 219.5+ MB\n",
      "\n",
      "Controllo le 'location' che non hanno un continente associato:\n",
      "['Africa' 'Asia' 'Europe' 'European Union (27)' 'High-income countries'\n",
      " 'Low-income countries' 'Lower-middle-income countries' 'North America'\n",
      " 'Oceania' 'South America' 'Upper-middle-income countries' 'World']\n",
      "\n",
      "Questi non sono paesi singoli. È importante saperlo per le analisi.\n"
     ]
    }
   ],
   "source": [
    "print(\"EDA: Tipi di dati e controllo aggregati\")\n",
    "\n",
    "# 3. Informazioni generali sulle colonne\n",
    "print(\"\\nInformazioni sulle colonne:\")\n",
    "df.info()\n",
    "\n",
    "# 4. Cerco le 'location' che sono aggregati e non nazioni\n",
    "print(\"\\nControllo le 'location' che non hanno un continente associato:\")\n",
    "locations_senza_continente = df[df['continent'].isnull()]['location'].unique()\n",
    "print(locations_senza_continente)\n",
    "print(\"\\nQuesti non sono paesi singoli. Da tenere in cosiderazione per le successive analisi.\")"
   ]
  },
  {
   "cell_type": "code",
   "execution_count": 4,
   "id": "8038f107-cd31-4e44-98ba-100255b657c1",
   "metadata": {},
   "outputs": [
    {
     "name": "stdout",
     "output_type": "stream",
     "text": [
      "Casi totali e percentuali per continente\n",
      "\n",
      "Casi totali per continente:\n",
      "    continent  total_cases\n",
      "North America  124492666.0\n",
      "       Africa   13145380.0\n",
      "South America   68809418.0\n",
      "      Oceania          NaN\n",
      "       Europe          NaN\n",
      "         Asia          NaN\n",
      "\n",
      "Percentuale dei casi per continente:\n",
      "    continent  percentage_of_world_total\n",
      "North America                        NaN\n",
      "       Africa                        NaN\n",
      "South America                        NaN\n",
      "      Oceania                        NaN\n",
      "       Europe                        NaN\n",
      "         Asia                        NaN\n"
     ]
    }
   ],
   "source": [
    "#Analisi per Continente\n",
    "print(\"Casi totali e percentuali per continente\")\n",
    "\n",
    "# Isolo i dati più recenti per ogni location\n",
    "latest_data = df.sort_values('date').drop_duplicates('location', keep='last')\n",
    "\n",
    "# Calcolo i casi per ogni continente\n",
    "continent_list = ['Africa', 'Asia', 'Europe', 'North America', 'Oceania', 'South America']\n",
    "continent_cases = latest_data[latest_data['location'].isin(continent_list)][['location', 'total_cases']]\n",
    "continent_cases = continent_cases.rename(columns={'location': 'continent'})\n",
    "print(\"\\nCasi totali per continente:\")\n",
    "print(continent_cases.to_string(index=False))\n",
    "\n",
    "# Calcolo la percentuale sul totale mondiale\n",
    "world_total_cases = latest_data[latest_data['location'] == 'World']['total_cases'].iloc[0]\n",
    "continent_cases['percentage_of_world_total'] = (continent_cases['total_cases'] / world_total_cases) * 100\n",
    "print(\"\\nPercentuale dei casi per continente:\")\n",
    "print(continent_cases[['continent', 'percentage_of_world_total']].to_string(index=False, float_format='%.2f%%'))"
   ]
  },
  {
   "cell_type": "code",
   "execution_count": 5,
   "id": "6d162162-8251-4d3c-9bf7-037cd0f047f6",
   "metadata": {},
   "outputs": [
    {
     "name": "stdout",
     "output_type": "stream",
     "text": [
      "Grafico sull'evoluzione dei casi totali in Italia (2022)\n"
     ]
    },
    {
     "data": {
      "text/plain": [
       "<Axes: xlabel='date', ylabel='total_cases'>"
      ]
     },
     "execution_count": 5,
     "metadata": {},
     "output_type": "execute_result"
    },
    {
     "data": {
      "image/png": "[encoded data removed]",
      "text/plain": [
       "<Figure size 640x480 with 1 Axes>"
      ]
     },
     "metadata": {},
     "output_type": "display_data"
    }
   ],
   "source": [
    "#Analisi Italia 2022\n",
    "print(\"Grafico sull'evoluzione dei casi totali in Italia (2022)\")\n",
    "\n",
    "# Filtro i dati che mi servono per il grafico\n",
    "italy_2022_weekly = df[(df['location'] == 'Italy') & (df['date'].dt.year == 2022) & (df['new_cases'] > 0)].copy()\n",
    "\n",
    "# Creo il grafico a linea con seaborn\n",
    "sns.lineplot(data=italy_2022_weekly, x='date', y='total_cases')"
   ]
  },
  {
   "cell_type": "code",
   "execution_count": 6,
   "id": "ba278437-f11d-40da-aa37-6ac2426f4c9d",
   "metadata": {},
   "outputs": [
    {
     "data": {
      "text/plain": [
       "<Axes: xlabel='date', ylabel='new_cases'>"
      ]
     },
     "execution_count": 6,
     "metadata": {},
     "output_type": "execute_result"
    },
    {
     "data": {
      "image/png": "[encoded data removed]",
      "text/plain": [
       "<Figure size 640x480 with 1 Axes>"
      ]
     },
     "metadata": {},
     "output_type": "display_data"
    }
   ],
   "source": [
    "#Grafico sui nuovi casi settimanali in Italia (2022)\n",
    "\n",
    "# Creo il grafico a barre con seaborn\n",
    "sns.barplot(data=italy_2022_weekly, x='date', y='new_cases', color='royalblue')"
   ]
  },
  {
   "cell_type": "code",
   "execution_count": 7,
   "id": "3d482d41-52a0-4fdd-a923-9c6ad5217f7f",
   "metadata": {},
   "outputs": [
    {
     "data": {
      "text/plain": [
       "<Axes: xlabel='location', ylabel='icu_patients'>"
      ]
     },
     "execution_count": 7,
     "metadata": {},
     "output_type": "execute_result"
    },
    {
     "data": {
      "image/png": "[encoded data removed]",
      "text/plain": [
       "<Figure size 640x480 with 1 Axes>"
      ]
     },
     "metadata": {},
     "output_type": "display_data"
    }
   ],
   "source": [
    "#Confronto pazienti in terapia intensiva\n",
    "\n",
    "# Filtro i dati per nazioni e periodo richiesto\n",
    "countries_icu = df[df['location'].isin(['Italy', 'Germany', 'France'])]\n",
    "start_date_icu = '2022-05-01'\n",
    "end_date_icu = '2023-04-30'\n",
    "icu_period = countries_icu[(countries_icu['date'] >= start_date_icu) & (countries_icu['date'] <= end_date_icu)]\n",
    "\n",
    "# Creo il boxplot con seaborn\n",
    "sns.boxplot(data=icu_period, x='location', y='icu_patients')"
   ]
  },
  {
   "cell_type": "code",
   "execution_count": 8,
   "id": "5e9cee5d-dc9f-4bea-8ab5-c841313f4cd1",
   "metadata": {},
   "outputs": [
    {
     "name": "stdout",
     "output_type": "stream",
     "text": [
      "\n",
      "Somma dei pazienti ospedalizzati giornalieri per nazione nel 2021:\n",
      "  location  hosp_patients\n",
      "0   France      6008717.0\n",
      "2    Italy      4419950.0\n",
      "3    Spain      2411706.0\n",
      "1  Germany            0.0\n"
     ]
    },
    {
     "data": {
      "text/plain": [
       "<Axes: xlabel='location', ylabel='hosp_patients'>"
      ]
     },
     "execution_count": 8,
     "metadata": {},
     "output_type": "execute_result"
    },
    {
     "data": {
      "image/png": "[encoded data removed]",
      "text/plain": [
       "<Figure size 640x480 with 1 Axes>"
      ]
     },
     "metadata": {},
     "output_type": "display_data"
    }
   ],
   "source": [
    "# Analisi pazienti ospedalizzati nel 2021\n",
    "\n",
    "# Filtro i dati per nazioni e anno\n",
    "countries_hosp = df[df['location'].isin(['Italy', 'Germany', 'France', 'Spain'])]\n",
    "hosp_2021 = countries_hosp[countries_hosp['date'].dt.year == 2021]\n",
    "\n",
    "# Calcolo la somma e la mostro numericamente\n",
    "total_hosp_2021 = hosp_2021.groupby('location')['hosp_patients'].sum().reset_index().sort_values('hosp_patients', ascending=False)\n",
    "print(\"\\nSomma dei pazienti ospedalizzati giornalieri per nazione nel 2021:\")\n",
    "print(total_hosp_2021)\n",
    "\n",
    "# Mostro il grafico a barre con seaborn\n",
    "sns.barplot(data=total_hosp_2021, x='location', y='hosp_patients')"
   ]
  },
  {
   "cell_type": "code",
   "execution_count": 12,
   "id": "d9b31ccb-2b06-4a15-b416-aabf0a79e21d",
   "metadata": {},
   "outputs": [
    {
     "name": "stdout",
     "output_type": "stream",
     "text": [
      "\n",
      "Controllo dati nulli per i pazienti ospedalizzati nel 2021:\n",
      "location\n",
      "France       0\n",
      "Germany    365\n",
      "Italy        0\n",
      "Spain        0\n",
      "Name: hosp_patients, dtype: int64\n",
      "\n",
      "Commento sui dati nulli:\n",
      "I dati per la Germania sono completamente assenti nel 2021. Non possiamo sostituirli, perché inventeremmo dei dati falsando l'analisi. È però importante notare questa mancanza.\n"
     ]
    }
   ],
   "source": [
    "#Commento sui dati nulli\n",
    "# Controllo i dati nulli\n",
    "print(\"\\nControllo dati nulli per i pazienti ospedalizzati nel 2021:\")\n",
    "null_hosp = hosp_2021.groupby('location')['hosp_patients'].apply(lambda x: x.isnull().sum())\n",
    "print(null_hosp)\n",
    "\n",
    "print(\"\\nCommento sui dati nulli:\")\n",
    "print(\"I dati per la Germania sono completamente assenti nel 2021. Non possiamo sostituirli, perché inventeremmo dei dati falsando l'analisi. È però importante notare questa mancanza.\")"
   ]
  },
  {
   "cell_type": "code",
   "execution_count": null,
   "id": "8f74637f-d783-46ae-b16c-5bab58769138",
   "metadata": {},
   "outputs": [],
   "source": []
  }
 ],
 "metadata": {
  "kernelspec": {
   "display_name": "Python 3 (ipykernel)",
   "language": "python",
   "name": "python3"
  },
  "language_info": {
   "codemirror_mode": {
    "name": "ipython",
    "version": 3
   },
   "file_extension": ".py",
   "mimetype": "text/x-python",
   "name": "python",
   "nbconvert_exporter": "python",
   "pygments_lexer": "ipython3",
   "version": "3.13.5"
  }
 },
 "nbformat": 4,
 "nbformat_minor": 5
}
